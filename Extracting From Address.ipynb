{
 "cells": [
  {
   "cell_type": "code",
   "execution_count": 1,
   "metadata": {},
   "outputs": [],
   "source": [
    "file1 = open(r'C:\\Users\\dell\\.spyder-py3\\scrape2.txt')\n",
    "Lines = file1.readlines()\n",
    "count = 0"
   ]
  },
  {
   "cell_type": "code",
   "execution_count": 2,
   "metadata": {},
   "outputs": [
    {
     "name": "stdout",
     "output_type": "stream",
     "text": [
      "['Hewlett-Packard Financial Services (India) Private Limited\\n', 'Corporate Identity Number: U65910KA2001PTC080236\\n', 'New No.19,Old No.7, Aziz Mulk 4Th Street\\n', 'Thousand Lights\\n', 'Chennai\\n', 'Tamil Nadu TN - 600006\\n', 'India\\n', 'Phone: +91 80 3382 4000\\n', 'E-Mail: hpfsincss@hpe.com\\n', 'PAN # AABCC5967C\\n', 'GST # 33AABCC5967C1ZW Accounts Payable\\n', 'Sold To:\\n', 'TEKION INDIA PRIVATE LIMITED\\n', '2nd floor, Module 5 D North Block\\n', 'Chennai One - IT SEZ\\n', 'Chennai\\n', 'Tamil Nadu TN - 600097\\n', 'INDIA\\n', 'GST # 33AAFCT7435G1ZC Tax Invoice Ship To:\\n', 'TEKION INDIA PRIVATE LIMITED\\n', '2nd floor, Module 5 D North Block\\n', 'Chennai One - IT SEZ\\n', 'Chennai\\n', 'Tamil Nadu TN - 600097\\n', 'INDIA Page Invoice No.\\n', 'Invoice Date\\n', 'Due Date 1 of 1 230001149213\\n', '13/02/2021\\n', '01/04/2021 Contract Number Description 5534614649230902IND5 Firm Term\\n', 'Period 01/04/2021 - 30/04/2021 Amount INR 22,439.80 Comments\\n', 'Place of supply: Tamil Nadu HSN 9973 Consideration towards leasing/ rental services of goods Supply meant for export/supply to SEZ unit or SEZ developer for authorized operations under letter of undertaking without\\n', 'payment of integrated tax, LUT number : AD3303200042407 IGST @ 0%\\n', 'Total Amount INR\\n', 'INR 0.00\\n', '22,439.80 Remittance Advice Please detach and return with your payment Company Name\\n', 'Contract Number\\n', 'Total Payment INR TEKION INDIA PRIVATE LIMITED\\n', '5534614649230902IND5\\n', '22,439.80 Invoice No.\\n', 'Invoice Date\\n', 'Due Date 230001149213\\n', '13/02/2021\\n', '01/04/2021 Please make Cheque Payable to: Hewlett-Packard Financial Services (India) Private Limited, Corporate Identity Number: U65910KA2001PTC080236 Registered Office: #24, Salarpuria Arena, 3rd Floor, Hosur Main Road, Bangalore 560030 Bank Name: Bank of America Branch: Mumbai, SWIFT: BOFAIN4X, ABA/BSB: 6430002-6000009, Acc#: 620572498010 ']\n"
     ]
    }
   ],
   "source": [
    "print(Lines)\n"
   ]
  },
  {
   "cell_type": "code",
   "execution_count": 3,
   "metadata": {},
   "outputs": [
    {
     "data": {
      "text/plain": [
       "['Hewlett-Packard Financial Services (India) Private Limited\\n',\n",
       " 'Corporate Identity Number: U65910KA2001PTC080236\\n',\n",
       " 'New No.19,Old No.7, Aziz Mulk 4Th Street\\n',\n",
       " 'Thousand Lights\\n',\n",
       " 'Chennai\\n',\n",
       " 'Tamil Nadu TN - 600006\\n',\n",
       " 'India\\n',\n",
       " 'Phone: +91 80 3382 4000\\n',\n",
       " 'E-Mail: hpfsincss@hpe.com\\n',\n",
       " 'PAN # AABCC5967C\\n',\n",
       " 'GST # 33AABCC5967C1ZW Accounts Payable\\n']"
      ]
     },
     "execution_count": 3,
     "metadata": {},
     "output_type": "execute_result"
    }
   ],
   "source": [
    "ind=Lines.index(\"Sold To:\\n\")\n",
    "Lines[:ind]"
   ]
  },
  {
   "cell_type": "code",
   "execution_count": null,
   "metadata": {},
   "outputs": [],
   "source": []
  }
 ],
 "metadata": {
  "kernelspec": {
   "display_name": "Python 3",
   "language": "python",
   "name": "python3"
  },
  "language_info": {
   "codemirror_mode": {
    "name": "ipython",
    "version": 3
   },
   "file_extension": ".py",
   "mimetype": "text/x-python",
   "name": "python",
   "nbconvert_exporter": "python",
   "pygments_lexer": "ipython3",
   "version": "3.8.5"
  }
 },
 "nbformat": 4,
 "nbformat_minor": 4
}
